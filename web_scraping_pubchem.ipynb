{
 "cells": [
  {
   "cell_type": "code",
   "execution_count": 2,
   "id": "e5448691-03aa-4a24-9474-67845218e6c1",
   "metadata": {},
   "outputs": [],
   "source": [
    "import requests as req\n",
    "import os\n",
    "\n",
    "# Create a folder for the bioact\n",
    "try:\n",
    "    os.mkdir(\"bioact\")\n",
    "except FileExistsError:\n",
    "    pass"
   ]
  },
  {
   "cell_type": "code",
   "execution_count": 3,
   "id": "48f98491-a0d7-44b6-85de-61508cc2b89d",
   "metadata": {},
   "outputs": [
    {
     "name": "stdout",
     "output_type": "stream",
     "text": [
      "Downloading 1\n",
      "Downloading 2\n",
      "Downloading 3\n",
      "4 already downloaded\n",
      "5 already downloaded\n"
     ]
    }
   ],
   "source": [
    "# Define the URL of the .gov webpage\n",
    "base = 'https://phytochem.nal.usda.gov'\n",
    "\n",
    "# Change range according to first and last entry of webpage search\n",
    "for bio in range(1, 6):\n",
    "    compurl = \"/biological-activities-chemicals-csv-export/\"+str(bio)+\"/all?page&_format=csv\"\n",
    "    if os.path.isfile(\"bioact/\"+str(bio)+\".csv\"):\n",
    "        print(str(bio)+\" already downloaded\")\n",
    "    else:\n",
    "        # Send a GET request to the webpage\n",
    "        res = req.get(base+compurl)\n",
    "        csv = open(\"bioact/\"+str(bio)+\".csv\",\"wb\")\n",
    "        csv.write(res.content)\n",
    "        csv.close()\n",
    "        print(\"Downloading \"+str(bio))"
   ]
  },
  {
   "cell_type": "code",
   "execution_count": 4,
   "id": "cfb70ea0-8f14-4e02-84dc-ec9a1a16c464",
   "metadata": {},
   "outputs": [
    {
     "name": "stderr",
     "output_type": "stream",
     "text": [
      "c:\\Users\\User\\Desktop\\Dirisa\\CSS2025\\css2025env\\Lib\\site-packages\\pubchempy.py:563: SyntaxWarning: \"is not\" with a literal. Did you mean \"!=\"?\n",
      "  if self.charge is not 0:\n"
     ]
    }
   ],
   "source": [
    "# Download compounds from pubchem\n",
    "import pubchempy as pcp\n",
    "import pandas as pd\n",
    "import glob\n",
    "from pandas.errors import EmptyDataError"
   ]
  },
  {
   "cell_type": "code",
   "execution_count": 5,
   "id": "68f3b5b6-26f8-4d6a-99ac-f307c706940a",
   "metadata": {},
   "outputs": [],
   "source": [
    "# Create a folder for sdf files\n",
    "try:\n",
    "    os.mkdir(\"SDFS\")\n",
    "except FileExistsError:\n",
    "    pass\n",
    "\n",
    "# Find all the csv files and store in an array\n",
    "csv_files = []\n",
    "# Specify subdirectory that contain csv files and store all csv filenames\n",
    "csv_files += (glob.glob(\"bioact\\*.csv\"))"
   ]
  },
  {
   "cell_type": "code",
   "execution_count": 6,
   "id": "0116fa24-c9d7-48a8-9354-e8e835a9b33d",
   "metadata": {},
   "outputs": [
    {
     "name": "stdout",
     "output_type": "stream",
     "text": [
      "bioact\\1.csv is an empty csv file\n"
     ]
    }
   ],
   "source": [
    "lig = []\n",
    "# Read data from csv files and store in temp dataframe\n",
    "for files in csv_files:\n",
    "    try:\n",
    "        temp_df = pd.read_csv(files, sep=',')\n",
    "        lig.append(temp_df)\n",
    "    except EmptyDataError:\n",
    "        print(files+\" is an empty csv file\")"
   ]
  },
  {
   "cell_type": "code",
   "execution_count": 7,
   "id": "5d34d5dc-66f4-4b1f-b62d-22eaf430ce6b",
   "metadata": {},
   "outputs": [],
   "source": [
    "# Combine all data into single dataframe\n",
    "df = pd.concat(lig, axis=0, ignore_index=True)\n",
    "\n",
    "tot = [] "
   ]
  },
  {
   "cell_type": "code",
   "execution_count": 8,
   "id": "3b08374b-c0ca-42ad-9344-22914680a0b4",
   "metadata": {},
   "outputs": [
    {
     "name": "stdout",
     "output_type": "stream",
     "text": [
      "Downloading 189586\n",
      "Downloading 245005\n",
      "Downloading 2012\n",
      "Downloading 24832676\n",
      "Downloading 6419868\n",
      "Downloading 22393\n",
      "Downloading 6708463\n",
      "Downloading 6713948\n",
      "Downloading 24883566\n",
      "Downloading 92044462\n",
      "Downloading 6915984\n",
      "Downloading 44135351\n",
      "Downloading 137322618\n",
      "Downloading 156592459\n",
      "Downloading 16210989\n",
      "Downloading 22836302\n",
      "Downloading 24014401\n",
      "Downloading 70697623\n",
      "Downloading 71313016\n",
      "Downloading 71774333\n",
      "Downloading 91746192\n",
      "Downloading 118705467\n",
      "Downloading 122173175\n",
      "Downloading 124831709\n",
      "Downloading 131674976\n",
      "Downloading 134688691\n",
      "Downloading 139593379\n",
      "Downloading 155982227\n",
      "Downloading 162639977\n",
      "Downloading 164946788\n",
      "Downloading 165339227\n",
      "Downloading 168432585\n",
      "Downloading 442180\n",
      "Downloading 2353\n",
      "Downloading 2519\n",
      "Downloading 5281542\n",
      "Downloading 2153\n",
      "Downloading 442935\n",
      "Downloading 10242\n",
      "Downloading 776133\n",
      "Downloading 11731186\n",
      "Downloading 2758\n",
      "Downloading 251575\n",
      "Downloading 64685\n",
      "Downloading 6552009\n",
      "Downloading 1201518\n",
      "Downloading 10492\n",
      "Downloading 657014\n",
      "Downloading 6321405\n",
      "Downloading 44630107\n",
      "Downloading 10049\n",
      "Downloading 230920\n",
      "Downloading 439569\n",
      "Downloading 12242824\n",
      "Downloading 247573\n",
      "Downloading 3039336\n",
      "Downloading 5351579\n",
      "Downloading 5316699\n",
      "Downloading 251574\n",
      "Downloading 415704\n",
      "Downloading 5474453\n",
      "Downloading 93045\n",
      "Downloading 10044294\n",
      "Downloading 4678529\n",
      "Downloading 44438955\n",
      "Downloading 51026735\n",
      "Downloading 101286236\n",
      "Downloading 54748480\n",
      "Downloading 91973789\n",
      "Downloading 133612270\n",
      "Downloading 139292155\n",
      "Downloading 145706031\n",
      "Downloading 172641474\n",
      "Downloading 5281542\n",
      "Downloading 3037884\n"
     ]
    }
   ],
   "source": [
    "# Iterate through names in dataframe\n",
    "for name in df['Chemical Name']:\n",
    "    # Search for the chemical on PubChem\n",
    "        compounds = pcp.get_compounds(name, 'name')\n",
    "        # Check for CID for each compound\n",
    "        for compound in compounds:\n",
    "            cid = compound.cid\n",
    "        # Download SDF files based on CID\n",
    "        # Also note if you write out files based on name and not CID you will only end \n",
    "        # up with the last SDF instead of various hits that are found for the name\n",
    "            pcp.download('SDF', 'SDFS/'+str(cid)+'.sdf', cid, 'cid', overwrite=True)\n",
    "            print(\"Downloading \"+str(cid))\n",
    "            tot.append(cid)"
   ]
  },
  {
   "cell_type": "code",
   "execution_count": 9,
   "id": "72691ab5-2b84-4e6a-af13-5392d57e0b1e",
   "metadata": {},
   "outputs": [
    {
     "name": "stdout",
     "output_type": "stream",
     "text": [
      "Total number of SDFs downloaded: 75\n",
      "DONE\n"
     ]
    }
   ],
   "source": [
    "print(\"Total number of SDFs downloaded: \"+str(len(tot)))\n",
    "print('DONE')"
   ]
  },
  {
   "cell_type": "code",
   "execution_count": null,
   "id": "6f2fab8e-1b67-4f62-b734-cd925e383203",
   "metadata": {},
   "outputs": [],
   "source": []
  }
 ],
 "metadata": {
  "kernelspec": {
   "display_name": "css2025env",
   "language": "python",
   "name": "python3"
  },
  "language_info": {
   "codemirror_mode": {
    "name": "ipython",
    "version": 3
   },
   "file_extension": ".py",
   "mimetype": "text/x-python",
   "name": "python",
   "nbconvert_exporter": "python",
   "pygments_lexer": "ipython3",
   "version": "3.11.5"
  }
 },
 "nbformat": 4,
 "nbformat_minor": 5
}
